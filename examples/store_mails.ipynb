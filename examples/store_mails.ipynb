{
 "cells": [
  {
   "cell_type": "code",
   "execution_count": null,
   "metadata": {},
   "outputs": [],
   "source": [
    "import imaplib\n",
    "import json\n",
    "import dotenv\n",
    "\n",
    "\n",
    "\n",
    "def record_imap_responses():\n",
    "    responses = {}\n",
    "    \n",
    "    # Connect to real server\n",
    "    imap = imaplib.IMAP4_SSL(\"imap.gmail.com\", 993)\n",
    "    \n",
    "    # Record login response\n",
    "    status, data = imap.login(\"your-email@gmail.com\", \"your-password\")\n",
    "    responses[\"login\"] = (status, [d.decode() if isinstance(d, bytes) else d for d in data])\n",
    "    \n",
    "    # Record other commands...\n",
    "    status, data = imap.select(\"INBOX\")\n",
    "    responses[\"select\"] = (status, [d.decode() if isinstance(d, bytes) else d for d in data])\n",
    "    \n",
    "    # Save to file\n",
    "    with open('recorded_imap_responses.json', 'w') as f:\n",
    "        json.dump(responses, f)\n",
    "        \n",
    "    imap.logout()"
   ]
  }
 ],
 "metadata": {
  "language_info": {
   "name": "python"
  }
 },
 "nbformat": 4,
 "nbformat_minor": 2
}
