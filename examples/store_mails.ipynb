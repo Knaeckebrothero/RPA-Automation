{
 "cells": [
  {
   "cell_type": "code",
   "metadata": {},
   "source": [
    "import os\n",
    "import imaplib\n",
    "from dotenv import load_dotenv, find_dotenv\n",
    "\n",
    "load_dotenv(find_dotenv())\n",
    "responses = {}\n",
    "\n",
    "# Connect to the imap server\n",
    "imap = imaplib.IMAP4_SSL(os.getenv(\"IMAP_HOST\"), int(os.getenv(\"IMAP_PORT\")))\n",
    "# imap = mock_imaplib.MockIMAP4_SSL(\"right.host.com\", 993)\n",
    "# imap = imaplib.IMAP4_SSL(\"sfsfdsf\", 123)\n",
    "# print(imap.logout())"
   ],
   "outputs": [],
   "execution_count": null
  },
  {
   "metadata": {},
   "cell_type": "code",
   "source": [
    "# Record login response\n",
    "status, data = imap.login(os.getenv(\"IMAP_USER\"), os.getenv(\"IMAP_PASSWORD\"))\n",
    "responses[\"login\"] = (status, [d.decode() if isinstance(d, bytes) else d for d in data])\n",
    "\n",
    "# Login failure response\n",
    "# imap = imaplib.IMAP4_SSL(os.getenv(\"IMAP_HOST\"), int(os.getenv(\"IMAP_PORT\")))\n",
    "# print(imap.login(\"wrong_user\", \"wrong_password\"))\n",
    "# status, data = imap.login(\"wrong_user\", \"wrong_password\")\n",
    "# responses[\"login_failure\"] = (status, [d.decode() if isinstance(d, bytes) else d for d in data])"
   ],
   "outputs": [],
   "execution_count": null
  },
  {
   "metadata": {},
   "cell_type": "code",
   "source": [
    "# Record select response\n",
    "status, data = imap.select(\"right_mailbox\")\n",
    "responses[\"select\"] = (status, [d.decode() if isinstance(d, bytes) else d for d in data])"
   ],
   "outputs": [],
   "execution_count": null
  },
  {
   "metadata": {},
   "cell_type": "code",
   "source": [
    "# Record list response\n",
    "status, data = imap.list()\n",
    "responses[\"list\"] = (status, [d.decode() if isinstance(d, bytes) else d for d in data])"
   ],
   "outputs": [],
   "execution_count": null
  },
  {
   "metadata": {},
   "cell_type": "code",
   "source": [
    "# Record search response\n",
    "status, data = imap.search(None, \"ALL\")\n",
    "responses[\"search\"] = (status, [d.decode() if isinstance(d, bytes) else d for d in data])"
   ],
   "outputs": [],
   "execution_count": null
  },
  {
   "metadata": {},
   "cell_type": "code",
   "source": [
    "for key, value in responses.items():\n",
    "    print(f\"{key}: {value}\\n\")"
   ],
   "outputs": [],
   "execution_count": null
  },
  {
   "metadata": {},
   "cell_type": "code",
   "source": [
    "# Record fetch response\n",
    "status, data = imap.fetch(b\"999999\", \"(RFC822)\")\n",
    "print(status)\n",
    "print(data)\n",
    "# responses[\"fetch\"] = (status, [d.decode() if isinstance(d, bytes) else d for d in data])\n",
    "#rspnse_full = (status, [d.decode() if isinstance(d, bytes) else d for d in data])"
   ],
   "outputs": [],
   "execution_count": null
  },
  {
   "metadata": {},
   "cell_type": "code",
   "source": [
    "import pickle\n",
    "\n",
    "\n",
    "_, data = imap.search(None, 'ALL')\n",
    "\n",
    "# Process each email ID\n",
    "for email_id in data[0].split():\n",
    "    email_id_decoded = email_id.decode('iso-8859-1')\n",
    "\n",
    "    # Fetch the email\n",
    "    status, msg_data = imap.fetch(email_id, '(RFC822)')\n",
    "\n",
    "    if status != 'OK':\n",
    "        print(f\"Failed to fetch email ID: {id}\")\n",
    "        continue\n",
    "\n",
    "    # Save the raw fetch response using pickle (to preserve exact structure)\n",
    "    response_file = os.path.join(os.getenv(\"COPY_PATH\"), \"test_emails\", f\"test_mail_{email_id_decoded}.pickle\")\n",
    "    with open(response_file, 'wb') as f:\n",
    "        pickle.dump(msg_data, f)\n",
    "\n",
    "    print(f\"Saved email ID: {email_id_decoded} to: {response_file}\")"
   ],
   "outputs": [],
   "execution_count": null
  },
  {
   "metadata": {},
   "cell_type": "code",
   "source": [
    "# Save to file\n",
    "#with open('recorded_imap_responses.json', 'w') as f:\n",
    "#    json.dump(responses, f)\n",
    "\n",
    "imap.logout()"
   ],
   "outputs": [],
   "execution_count": null
  }
 ],
 "metadata": {
  "language_info": {
   "name": "python"
  },
  "kernelspec": {
   "name": "python3",
   "language": "python",
   "display_name": "Python 3 (ipykernel)"
  }
 },
 "nbformat": 4,
 "nbformat_minor": 2
}
