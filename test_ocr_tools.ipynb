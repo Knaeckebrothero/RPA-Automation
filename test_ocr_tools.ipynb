{
 "cells": [
  {
   "cell_type": "code",
   "execution_count": null,
   "id": "7d2849f9",
   "metadata": {},
   "outputs": [],
   "source": [
    "import os\n",
    "\n",
    "print(os.path.abspath(__file__))"
   ]
  },
  {
   "cell_type": "code",
   "execution_count": null,
   "id": "e52c6b278e199f9e",
   "metadata": {},
   "outputs": [],
   "source": [
    "import cv2\n",
    "import numpy as np\n",
    "from PIL import Image\n",
    "import io\n",
    "from easyocr import Reader\n",
    "from src.process.ocr import ocr_cell\n",
    "\n",
    "\n",
    "ocr_reader = Reader(['de'])\n",
    "\n",
    "# Read the image file\n",
    "with open('examples/test_image.jpg', 'rb') as f:\n",
    "    image_data = f.read()\n",
    "\n",
    "# Convert binary data to a format OpenCV can use\n",
    "pil_image = Image.open(io.BytesIO(image_data))\n",
    "np_image_array = np.array(pil_image)\n",
    "bgr_image_array = cv2.cvtColor(np_image_array, cv2.COLOR_RGB2BGR)\n",
    "\n",
    "#print(bgr_image_array)\n",
    "\n",
    "# Now you can pass this to ocr_cell\n",
    "result = ocr_cell(bgr_image_array, ocr_reader)\n",
    "print('Result: ', result)"
   ]
  },
  {
   "cell_type": "code",
   "execution_count": null,
   "id": "3f839d46de5819ff",
   "metadata": {},
   "outputs": [],
   "source": [
    "import cv2\n",
    "import numpy as np\n",
    "from PIL import Image\n",
    "import io\n",
    "from src.process.ocr import ocr_cell_tesseract\n",
    "\n",
    "\n",
    "# Read the image file\n",
    "with open('examples/test_image.jpg', 'rb') as f:\n",
    "    image_data = f.read()\n",
    "\n",
    "# Convert binary data to a format OpenCV can use\n",
    "pil_image = Image.open(io.BytesIO(image_data))\n",
    "np_image_array = np.array(pil_image)\n",
    "bgr_image_array = cv2.cvtColor(np_image_array, cv2.COLOR_RGB2BGR)\n",
    "\n",
    "# Now you can pass this to ocr_cell_tesseract\n",
    "result = ocr_cell_tesseract(bgr_image_array)\n",
    "print('Result: ', result)"
   ]
  }
 ],
 "metadata": {
  "kernelspec": {
   "display_name": "Python 3",
   "language": "python",
   "name": "python3"
  },
  "language_info": {
   "codemirror_mode": {
    "name": "ipython",
    "version": 2
   },
   "file_extension": ".py",
   "mimetype": "text/x-python",
   "name": "python",
   "nbconvert_exporter": "python",
   "pygments_lexer": "ipython2",
   "version": "2.7.6"
  }
 },
 "nbformat": 4,
 "nbformat_minor": 5
}
